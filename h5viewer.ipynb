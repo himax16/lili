{
 "cells": [
  {
   "cell_type": "code",
   "execution_count": null,
   "metadata": {},
   "outputs": [],
   "source": [
    "# Load HDF5 file\n",
    "import numpy as np\n",
    "import h5py"
   ]
  },
  {
   "cell_type": "code",
   "execution_count": null,
   "metadata": {},
   "outputs": [],
   "source": [
    "!cmake --build build --target lili\n",
    "!build/lili examples/input/test.jsonc\n",
    "fname = 'test2.h5'\n",
    "data = {}\n",
    "with h5py.File(fname, 'r') as f:\n",
    "    # Take all data to dictionary\n",
    "    for k in f.keys():\n",
    "        data[k] = f[k][:]\n",
    "\n",
    "for k in data.keys():\n",
    "    print(f\"{k:6s}: {data[k].shape} | {data[k]}\")\n"
   ]
  },
  {
   "cell_type": "code",
   "execution_count": null,
   "metadata": {},
   "outputs": [],
   "source": []
  }
 ],
 "metadata": {
  "kernelspec": {
   "display_name": "himastellar",
   "language": "python",
   "name": "python3"
  },
  "language_info": {
   "codemirror_mode": {
    "name": "ipython",
    "version": 3
   },
   "file_extension": ".py",
   "mimetype": "text/x-python",
   "name": "python",
   "nbconvert_exporter": "python",
   "pygments_lexer": "ipython3",
   "version": "3.10.6"
  }
 },
 "nbformat": 4,
 "nbformat_minor": 2
}
