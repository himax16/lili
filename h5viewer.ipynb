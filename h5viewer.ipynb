{
 "cells": [
  {
   "cell_type": "code",
   "execution_count": 7,
   "metadata": {},
   "outputs": [],
   "source": [
    "# Load HDF5 file\n",
    "import numpy as np\n",
    "import h5py\n",
    "import matplotlib.pyplot as plt"
   ]
  },
  {
   "cell_type": "code",
   "execution_count": 8,
   "metadata": {},
   "outputs": [],
   "source": [
    "# Load the HDF5 file\n",
    "filename = 'output/tp_electrons_0_00000.h5'\n",
    "data = {}\n",
    "with h5py.File(filename, 'r') as f:\n",
    "    # Take all data to dictionary\n",
    "    for k in f.keys():\n",
    "        data[k] = f[k][:]"
   ]
  },
  {
   "cell_type": "code",
   "execution_count": 14,
   "metadata": {},
   "outputs": [
    {
     "data": {
      "text/plain": [
       "dict_keys(['bx', 'by', 'bz', 'ex', 'ey', 'ez', 'id', 'u', 'v', 'w', 'x', 'y', 'z'])"
      ]
     },
     "execution_count": 14,
     "metadata": {},
     "output_type": "execute_result"
    }
   ],
   "source": [
    "data.keys()"
   ]
  },
  {
   "cell_type": "code",
   "execution_count": null,
   "metadata": {},
   "outputs": [],
   "source": [
    "!cmake --build build --target lili\n",
    "!build/lili examples/input/test.jsonc"
   ]
  },
  {
   "cell_type": "code",
   "execution_count": null,
   "metadata": {},
   "outputs": [],
   "source": [
    "fname = 'test.h5'\n",
    "data = {}\n",
    "with h5py.File(fname, 'r') as f:\n",
    "    # Take all data to dictionary\n",
    "    for k in f.keys():\n",
    "        data[k] = f[k][:]\n",
    "\n",
    "fname_copy = 'test_copy.h5'\n",
    "data_copy = {}\n",
    "with h5py.File(fname_copy, 'r') as f:\n",
    "    # Take all data to dictionary\n",
    "    for k in f.keys():\n",
    "        data_copy[k] = f[k][:]\n",
    "\n",
    "for k in data.keys():\n",
    "    print(f\"{k:6s}: {data[k].shape}\")\n"
   ]
  },
  {
   "cell_type": "code",
   "execution_count": null,
   "metadata": {},
   "outputs": [],
   "source": [
    "bz = data['bz']\n",
    "bz.shape\n",
    "plt.plot(bz[:, 10, 0])"
   ]
  },
  {
   "cell_type": "code",
   "execution_count": null,
   "metadata": {},
   "outputs": [],
   "source": [
    "bz_copy = data_copy['bz']\n",
    "((bz - bz_copy) == 0.).all()"
   ]
  },
  {
   "cell_type": "code",
   "execution_count": null,
   "metadata": {},
   "outputs": [],
   "source": [
    "plt.hist(data['x'], bins=100)\n",
    "plt.hist(data['y'], bins=100)\n",
    "plt.hist(data['z'], bins=100)"
   ]
  },
  {
   "cell_type": "code",
   "execution_count": null,
   "metadata": {},
   "outputs": [],
   "source": [
    "plt.hist(data['u'], bins=100, density=True)\n",
    "plt.hist(data['v'], bins=100, density=True)\n",
    "plt.hist(data['w'], bins=100, density=True)"
   ]
  },
  {
   "cell_type": "code",
   "execution_count": null,
   "metadata": {},
   "outputs": [],
   "source": [
    "gamma = np.sqrt(1 + data['u']**2 + data['v']**2 + data['w']**2)\n",
    "beta = np.sqrt(1 - 1/gamma**2)\n",
    "print(f\"Mean gamma: {np.mean(gamma):.3f}\")\n",
    "print(f\"Mean beta: {np.mean(beta):.3f}\")\n",
    "print(f\"Inferred theta: {np.mean(beta)**2:.3f}\")"
   ]
  },
  {
   "cell_type": "code",
   "execution_count": null,
   "metadata": {},
   "outputs": [],
   "source": [
    "plt.hist(beta, bins=100, density=True)"
   ]
  },
  {
   "cell_type": "code",
   "execution_count": null,
   "metadata": {},
   "outputs": [],
   "source": [
    "plt.hist(gamma, bins=100)"
   ]
  },
  {
   "cell_type": "code",
   "execution_count": null,
   "metadata": {},
   "outputs": [],
   "source": []
  }
 ],
 "metadata": {
  "kernelspec": {
   "display_name": "career_week",
   "language": "python",
   "name": "python3"
  },
  "language_info": {
   "codemirror_mode": {
    "name": "ipython",
    "version": 3
   },
   "file_extension": ".py",
   "mimetype": "text/x-python",
   "name": "python",
   "nbconvert_exporter": "python",
   "pygments_lexer": "ipython3",
   "version": "3.12.7"
  }
 },
 "nbformat": 4,
 "nbformat_minor": 2
}
