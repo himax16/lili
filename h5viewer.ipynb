{
 "cells": [
  {
   "cell_type": "code",
   "execution_count": 7,
   "metadata": {},
   "outputs": [],
   "source": [
    "# Load HDF5 file\n",
    "import numpy as np\n",
    "import h5py\n",
    "import matplotlib.pyplot as plt"
   ]
  },
  {
   "cell_type": "code",
   "execution_count": 19,
   "metadata": {},
   "outputs": [],
   "source": [
    "# Load the HDF5 file\n",
    "filename = 'output/tp_electrons_0_00000.h5'\n",
    "data = {}\n",
    "with h5py.File(filename, 'r') as f:\n",
    "    # Take all data to dictionary\n",
    "    for k in f.keys():\n",
    "        data[k] = f[k][:]"
   ]
  },
  {
   "cell_type": "code",
   "execution_count": 22,
   "metadata": {},
   "outputs": [
    {
     "data": {
      "text/plain": [
       "(array([0.05480055, 0.        , 0.02740028, 0.        , 0.        ,\n",
       "        0.02740028, 0.        , 0.        , 0.02740028, 0.        ,\n",
       "        0.05480055, 0.02740028, 0.02740028, 0.        , 0.        ,\n",
       "        0.05480055, 0.02740028, 0.05480055, 0.05480055, 0.05480055,\n",
       "        0.08220083, 0.16440166, 0.        , 0.10960111, 0.05480055,\n",
       "        0.10960111, 0.24660249, 0.27400277, 0.27400277, 0.27400277,\n",
       "        0.13700139, 0.10960111, 0.30140305, 0.30140305, 0.32880333,\n",
       "        0.24660249, 0.30140305, 0.32880333, 0.54800554, 0.38360388,\n",
       "        0.13700139, 0.57540582, 0.63020637, 0.46580471, 0.65760665,\n",
       "        0.52060527, 0.71240721, 0.68500693, 0.93160942, 0.84940859,\n",
       "        0.82200831, 0.90420915, 0.54800554, 0.73980748, 0.87680887,\n",
       "        0.9590097 , 0.65760665, 0.71240721, 0.82200831, 0.73980748,\n",
       "        0.6028061 , 0.73980748, 0.54800554, 0.46580471, 0.65760665,\n",
       "        0.46580471, 0.38360388, 0.38360388, 0.41100416, 0.41100416,\n",
       "        0.38360388, 0.24660249, 0.16440166, 0.13700139, 0.52060527,\n",
       "        0.19180194, 0.32880333, 0.05480055, 0.10960111, 0.19180194,\n",
       "        0.19180194, 0.05480055, 0.05480055, 0.10960111, 0.02740028,\n",
       "        0.02740028, 0.08220083, 0.02740028, 0.02740028, 0.05480055,\n",
       "        0.        , 0.02740028, 0.08220083, 0.05480055, 0.05480055,\n",
       "        0.        , 0.05480055, 0.        , 0.        , 0.05480055]),\n",
       " array([-1.93106552, -1.89456954, -1.85807356, -1.82157758, -1.7850816 ,\n",
       "        -1.74858562, -1.71208964, -1.67559365, -1.63909767, -1.60260169,\n",
       "        -1.56610571, -1.52960973, -1.49311375, -1.45661777, -1.42012179,\n",
       "        -1.3836258 , -1.34712982, -1.31063384, -1.27413786, -1.23764188,\n",
       "        -1.2011459 , -1.16464992, -1.12815394, -1.09165795, -1.05516197,\n",
       "        -1.01866599, -0.98217001, -0.94567403, -0.90917805, -0.87268207,\n",
       "        -0.83618609, -0.79969011, -0.76319412, -0.72669814, -0.69020216,\n",
       "        -0.65370618, -0.6172102 , -0.58071422, -0.54421824, -0.50772226,\n",
       "        -0.47122627, -0.43473029, -0.39823431, -0.36173833, -0.32524235,\n",
       "        -0.28874637, -0.25225039, -0.21575441, -0.17925843, -0.14276244,\n",
       "        -0.10626646, -0.06977048, -0.0332745 ,  0.00322148,  0.03971746,\n",
       "         0.07621344,  0.11270942,  0.14920541,  0.18570139,  0.22219737,\n",
       "         0.25869335,  0.29518933,  0.33168531,  0.36818129,  0.40467727,\n",
       "         0.44117326,  0.47766924,  0.51416522,  0.5506612 ,  0.58715718,\n",
       "         0.62365316,  0.66014914,  0.69664512,  0.7331411 ,  0.76963709,\n",
       "         0.80613307,  0.84262905,  0.87912503,  0.91562101,  0.95211699,\n",
       "         0.98861297,  1.02510895,  1.06160494,  1.09810092,  1.1345969 ,\n",
       "         1.17109288,  1.20758886,  1.24408484,  1.28058082,  1.3170768 ,\n",
       "         1.35357278,  1.39006877,  1.42656475,  1.46306073,  1.49955671,\n",
       "         1.53605269,  1.57254867,  1.60904465,  1.64554063,  1.68203662,\n",
       "         1.7185326 ]),\n",
       " <BarContainer object of 100 artists>)"
      ]
     },
     "execution_count": 22,
     "metadata": {},
     "output_type": "execute_result"
    },
    {
     "data": {
      "image/png": "[encoded data removed]",
      "text/plain": [
       "<Figure size 640x480 with 1 Axes>"
      ]
     },
     "metadata": {},
     "output_type": "display_data"
    }
   ],
   "source": [
    "# Make histogram of the u\n",
    "plt.hist(data['v'][0,:], bins=100, density=True)"
   ]
  },
  {
   "cell_type": "code",
   "execution_count": null,
   "metadata": {},
   "outputs": [],
   "source": [
    "!cmake --build build --target lili\n",
    "!build/lili examples/input/test.jsonc"
   ]
  },
  {
   "cell_type": "code",
   "execution_count": null,
   "metadata": {},
   "outputs": [],
   "source": [
    "fname = 'test.h5'\n",
    "data = {}\n",
    "with h5py.File(fname, 'r') as f:\n",
    "    # Take all data to dictionary\n",
    "    for k in f.keys():\n",
    "        data[k] = f[k][:]\n",
    "\n",
    "fname_copy = 'test_copy.h5'\n",
    "data_copy = {}\n",
    "with h5py.File(fname_copy, 'r') as f:\n",
    "    # Take all data to dictionary\n",
    "    for k in f.keys():\n",
    "        data_copy[k] = f[k][:]\n",
    "\n",
    "for k in data.keys():\n",
    "    print(f\"{k:6s}: {data[k].shape}\")\n"
   ]
  },
  {
   "cell_type": "code",
   "execution_count": null,
   "metadata": {},
   "outputs": [],
   "source": [
    "bz = data['bz']\n",
    "bz.shape\n",
    "plt.plot(bz[:, 10, 0])"
   ]
  },
  {
   "cell_type": "code",
   "execution_count": null,
   "metadata": {},
   "outputs": [],
   "source": [
    "bz_copy = data_copy['bz']\n",
    "((bz - bz_copy) == 0.).all()"
   ]
  },
  {
   "cell_type": "code",
   "execution_count": null,
   "metadata": {},
   "outputs": [],
   "source": [
    "plt.hist(data['x'], bins=100)\n",
    "plt.hist(data['y'], bins=100)\n",
    "plt.hist(data['z'], bins=100)"
   ]
  },
  {
   "cell_type": "code",
   "execution_count": null,
   "metadata": {},
   "outputs": [],
   "source": [
    "plt.hist(data['u'], bins=100, density=True)\n",
    "plt.hist(data['v'], bins=100, density=True)\n",
    "plt.hist(data['w'], bins=100, density=True)"
   ]
  },
  {
   "cell_type": "code",
   "execution_count": null,
   "metadata": {},
   "outputs": [],
   "source": [
    "gamma = np.sqrt(1 + data['u']**2 + data['v']**2 + data['w']**2)\n",
    "beta = np.sqrt(1 - 1/gamma**2)\n",
    "print(f\"Mean gamma: {np.mean(gamma):.3f}\")\n",
    "print(f\"Mean beta: {np.mean(beta):.3f}\")\n",
    "print(f\"Inferred theta: {np.mean(beta)**2:.3f}\")"
   ]
  },
  {
   "cell_type": "code",
   "execution_count": null,
   "metadata": {},
   "outputs": [],
   "source": [
    "plt.hist(beta, bins=100, density=True)"
   ]
  },
  {
   "cell_type": "code",
   "execution_count": null,
   "metadata": {},
   "outputs": [],
   "source": [
    "plt.hist(gamma, bins=100)"
   ]
  },
  {
   "cell_type": "code",
   "execution_count": null,
   "metadata": {},
   "outputs": [],
   "source": []
  }
 ],
 "metadata": {
  "kernelspec": {
   "display_name": "career_week",
   "language": "python",
   "name": "python3"
  },
  "language_info": {
   "codemirror_mode": {
    "name": "ipython",
    "version": 3
   },
   "file_extension": ".py",
   "mimetype": "text/x-python",
   "name": "python",
   "nbconvert_exporter": "python",
   "pygments_lexer": "ipython3",
   "version": "3.12.7"
  }
 },
 "nbformat": 4,
 "nbformat_minor": 2
}
